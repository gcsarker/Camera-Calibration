{
 "cells": [
  {
   "cell_type": "code",
   "execution_count": 18,
   "id": "2e675aeb",
   "metadata": {},
   "outputs": [],
   "source": [
    "import time\n",
    "import cv2\n",
    "import cv2.aruco as aruco\n",
    "import numpy as np\n",
    "import pickle\n",
    "import glob"
   ]
  },
  {
   "cell_type": "code",
   "execution_count": 20,
   "id": "6f4406d9",
   "metadata": {},
   "outputs": [],
   "source": [
    "aruco_dict = aruco.Dictionary_get(aruco.DICT_6X6_1000)\n",
    "board = cv2.aruco.CharucoBoard_create(3,3, 0.025, 0.0125, aruco_dict)\n",
    "image_board = board.draw((200*3, 200*3))"
   ]
  },
  {
   "cell_type": "code",
   "execution_count": 4,
   "id": "b023f50f",
   "metadata": {},
   "outputs": [
    {
     "data": {
      "text/plain": [
       "True"
      ]
     },
     "execution_count": 4,
     "metadata": {},
     "output_type": "execute_result"
    }
   ],
   "source": [
    "cv2.imshow(\"charucoboard\",image_board)\n",
    "cv2.waitKey(0)\n",
    "cv2.destroyAllWindows()\n",
    "cv2.imwrite('charucoboard.png', image_board)"
   ]
  },
  {
   "cell_type": "code",
   "execution_count": 21,
   "id": "77af0b9c",
   "metadata": {},
   "outputs": [
    {
     "name": "stdout",
     "output_type": "stream",
     "text": [
      "image saved!\n",
      "image saved!\n",
      "image saved!\n",
      "image saved!\n",
      "image saved!\n",
      "image saved!\n",
      "image saved!\n",
      "image saved!\n",
      "image saved!\n",
      "image saved!\n",
      "image saved!\n",
      "image saved!\n",
      "image saved!\n",
      "image saved!\n",
      "image saved!\n",
      "image saved!\n",
      "image saved!\n",
      "image saved!\n",
      "image saved!\n",
      "image saved!\n",
      "image saved!\n",
      "image saved!\n",
      "image saved!\n",
      "image saved!\n",
      "image saved!\n",
      "image saved!\n",
      "image saved!\n",
      "image saved!\n",
      "image saved!\n",
      "image saved!\n",
      "image saved!\n",
      "image saved!\n",
      "image saved!\n",
      "image saved!\n",
      "image saved!\n",
      "image saved!\n",
      "image saved!\n",
      "image saved!\n",
      "image saved!\n",
      "image saved!\n"
     ]
    }
   ],
   "source": [
    "cap = cv2.VideoCapture(0)\n",
    "\n",
    "num = 0\n",
    "\n",
    "while cap.isOpened():\n",
    "\n",
    "    succes, img = cap.read()\n",
    "\n",
    "    k = cv2.waitKey(5)\n",
    "\n",
    "    if k == 27:\n",
    "        break\n",
    "    elif k == ord('s'): # wait for 's' key to save and exit\n",
    "        cv2.imwrite('images/img' + str(num) + '.png', img)\n",
    "        print(\"image saved!\")\n",
    "        num += 1\n",
    "\n",
    "    cv2.imshow('Img',img)\n",
    "\n",
    "# Release and destroy all windows before termination\n",
    "cap.release()\n",
    "\n",
    "cv2.destroyAllWindows()"
   ]
  },
  {
   "cell_type": "code",
   "execution_count": 44,
   "id": "0c7de579",
   "metadata": {},
   "outputs": [],
   "source": [
    "#cap = cv2.VideoCapture(0)\n",
    "images = glob.glob('images/*.png')\n",
    "\n",
    "all_corners = []\n",
    "all_ids = []\n",
    "counter = 0\n",
    "\n",
    "for image in images:\n",
    "  frame = cv2.imread(image)\n",
    "  gray = cv2.cvtColor(frame, cv2.COLOR_BGR2GRAY)\n",
    "  res = cv2.aruco.detectMarkers(gray, aruco_dict) # return values: corners, ids, rejectedImgPoints\n",
    "\n",
    "  if len(res[0])> 0:\n",
    "    res2 = cv2.aruco.interpolateCornersCharuco(res[0], res[1], gray, board) # _, corners, ids\n",
    "    if res2[1] is not None and res2[2] is not None and len(res2[1])> 3 and counter %3 == 0: #3\n",
    "      all_corners.append(res2[1])\n",
    "      all_ids.append(res2[2])\n",
    "\n",
    "  cv2.aruco.drawDetectedMarkers(gray, res[0], res[1])\n",
    "  #cv2.imshow('frame', gray)\n",
    "  #if cv2.waitKey(0) & 0xFF == ord('q'):\n",
    "  #    break\n",
    "  counter +=1\n",
    "\n",
    "try:\n",
    "  cal = cv2.aruco.calibrateCameraCharuco(all_corners, all_ids, board, gray.shape, None, None)\n",
    "except:\n",
    "  cap.release()\n",
    "  print(\"Calibration Could not be done\")\n",
    "\n",
    "reveal, cameraMatrix, distCoeffs, rvecs, tvecs = cal #Return Vals: calibration success, camera matrix, distortion matrix, rotation vectors, translation vectors\n",
    "f = open('Calibration2.pckl', 'wb')\n",
    "pickle.dump((cameraMatrix, distCoeffs),f)\n",
    "f.close()\n",
    "\n",
    "cap.release()\n",
    "cv2.destroyAllWindows()\n"
   ]
  },
  {
   "cell_type": "code",
   "execution_count": 24,
   "id": "62a919d3",
   "metadata": {},
   "outputs": [
    {
     "data": {
      "text/plain": [
       "40"
      ]
     },
     "execution_count": 24,
     "metadata": {},
     "output_type": "execute_result"
    }
   ],
   "source": [
    "counter"
   ]
  },
  {
   "cell_type": "code",
   "execution_count": 45,
   "id": "4b4c4fab",
   "metadata": {},
   "outputs": [
    {
     "name": "stdout",
     "output_type": "stream",
     "text": [
      "Camera Matrix \n",
      " [[650.7987065    0.         241.14056631]\n",
      " [  0.         632.85010511 289.77748015]\n",
      " [  0.           0.           1.        ]]\n",
      "\n",
      "Distortion Matrix \n",
      " [[-7.58693608e-01  3.96732233e+00 -2.37950238e-02 -3.05053975e-03\n",
      "  -1.27254064e+01]]\n"
     ]
    }
   ],
   "source": [
    "print('Camera Matrix \\n', cameraMatrix)\n",
    "print('\\nDistortion Matrix \\n', distCoeffs)\n"
   ]
  },
  {
   "cell_type": "code",
   "execution_count": 62,
   "id": "ab271fd7",
   "metadata": {},
   "outputs": [],
   "source": [
    "#img = cv2.imread('images/img1.png')\n",
    "img = cv2.imread('calibration_result.png')\n",
    "h,  w = img.shape[:2]\n"
   ]
  },
  {
   "cell_type": "code",
   "execution_count": 63,
   "id": "adecf6c6",
   "metadata": {},
   "outputs": [],
   "source": [
    "#newCameraMatrix, roi = cv2.getOptimalNewCameraMatrix(cameraMatrix, distCoeffs, (w,h), 1, (w,h))\n",
    "#dst = cv2.undistort(img, cameraMatrix, distCoeffs, None, newCameraMatrix)\n",
    "dst = cv2.undistort(img, cameraMatrix, distCoeffs, None, cameraMatrix)\n",
    "#cv2.imwrite('calibration_Result.png', dst)"
   ]
  },
  {
   "cell_type": "code",
   "execution_count": 61,
   "id": "8a794706",
   "metadata": {},
   "outputs": [
    {
     "ename": "error",
     "evalue": "OpenCV(4.5.4-dev) D:\\a\\opencv-python\\opencv-python\\opencv\\modules\\imgcodecs\\src\\loadsave.cpp:799: error: (-215:Assertion failed) !_img.empty() in function 'cv::imwrite'\n",
     "output_type": "error",
     "traceback": [
      "\u001b[1;31m---------------------------------------------------------------------------\u001b[0m",
      "\u001b[1;31merror\u001b[0m                                     Traceback (most recent call last)",
      "Cell \u001b[1;32mIn[61], line 4\u001b[0m\n\u001b[0;32m      2\u001b[0m x, y, w, h \u001b[38;5;241m=\u001b[39m roi\n\u001b[0;32m      3\u001b[0m dst \u001b[38;5;241m=\u001b[39m dst[y:y\u001b[38;5;241m+\u001b[39mh, x:x\u001b[38;5;241m+\u001b[39mw]\n\u001b[1;32m----> 4\u001b[0m \u001b[43mcv2\u001b[49m\u001b[38;5;241;43m.\u001b[39;49m\u001b[43mimwrite\u001b[49m\u001b[43m(\u001b[49m\u001b[38;5;124;43m'\u001b[39;49m\u001b[38;5;124;43mcalibration_Result.png\u001b[39;49m\u001b[38;5;124;43m'\u001b[39;49m\u001b[43m,\u001b[49m\u001b[43m \u001b[49m\u001b[43mdst\u001b[49m\u001b[43m)\u001b[49m\n",
      "\u001b[1;31merror\u001b[0m: OpenCV(4.5.4-dev) D:\\a\\opencv-python\\opencv-python\\opencv\\modules\\imgcodecs\\src\\loadsave.cpp:799: error: (-215:Assertion failed) !_img.empty() in function 'cv::imwrite'\n"
     ]
    }
   ],
   "source": [
    "# crop the image\n",
    "x, y, w, h = roi\n",
    "dst = dst[y:y+h, x:x+w]\n",
    "cv2.imwrite('calibration_Result.png', dst)\n"
   ]
  },
  {
   "cell_type": "code",
   "execution_count": 52,
   "id": "279ca756",
   "metadata": {},
   "outputs": [
    {
     "data": {
      "text/plain": [
       "True"
      ]
     },
     "execution_count": 52,
     "metadata": {},
     "output_type": "execute_result"
    }
   ],
   "source": [
    "# undistort\n",
    "mapx, mapy = cv2.initUndistortRectifyMap(cameraMatrix, distCoeffs, None, cameraMatrix, (w,h), 5)\n",
    "dst = cv2.remap(img, mapx, mapy, cv2.INTER_LINEAR)\n",
    "# crop the image\n",
    "#x, y, w, h = roi\n",
    "#dst = dst[y:y+h, x:x+w]\n",
    "cv2.imwrite('calibresult.png', dst)"
   ]
  }
 ],
 "metadata": {
  "kernelspec": {
   "display_name": "Python 3 (ipykernel)",
   "language": "python",
   "name": "python3"
  },
  "language_info": {
   "codemirror_mode": {
    "name": "ipython",
    "version": 3
   },
   "file_extension": ".py",
   "mimetype": "text/x-python",
   "name": "python",
   "nbconvert_exporter": "python",
   "pygments_lexer": "ipython3",
   "version": "3.9.17"
  }
 },
 "nbformat": 4,
 "nbformat_minor": 5
}
